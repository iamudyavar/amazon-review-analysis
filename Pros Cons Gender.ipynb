{
 "cells": [
  {
   "cell_type": "code",
   "execution_count": null,
   "id": "28c1ef55",
   "metadata": {},
   "outputs": [],
   "source": [
    "import pandas as pd\n",
    "import spacy\n",
    "import joblib\n",
    "\n",
    "loaded_model = joblib.load('gender_predictor.pkl')\n",
    "df = pd.read_csv('Reviews.csv')\n",
    "nlp = spacy.load('en_core_web_sm')"
   ]
  },
  {
   "cell_type": "code",
   "execution_count": 40,
   "id": "a48c6818",
   "metadata": {},
   "outputs": [
    {
     "name": "stdout",
     "output_type": "stream",
     "text": [
      "This product is popular among both males and females.\n",
      "\n",
      "Top Pros:\n",
      "      Aspect  Frequency\n",
      "0      yummy        118\n",
      "1       soft         73\n",
      "2  delicious         22\n",
      "3    oatmeal         14\n",
      "4      tasty         11\n",
      "\n",
      "Top Cons:\n",
      "    Aspect  Frequency\n",
      "0      dry          2\n",
      "1    handy          1\n",
      "2  oatmeal          1\n",
      "3     much          1\n",
      "4  healthy          1\n"
     ]
    }
   ],
   "source": [
    "# Change to user input/desired productId\n",
    "productId = 'B007JFMH8M'\n",
    "\n",
    "pros = {}\n",
    "cons = {}\n",
    "\n",
    "def analyze_review(review, rating):    \n",
    "    # Extract adjectives (possible pros/cons)\n",
    "    doc = nlp(review)\n",
    "    excluded_words = ['good', 'bad', 'great', 'amazing', 'wonderful', 'best', 'many']\n",
    "    aspects = [token.text.lower() for token in doc if token.pos_ == 'ADJ' and token.text.lower() not in excluded_words]\n",
    "\n",
    "    # Positive Review\n",
    "    if rating >= 4:\n",
    "        for aspect in aspects:\n",
    "            pros[aspect] = pros.get(aspect, 0) + 1\n",
    "    # Negative review\n",
    "    elif rating <= 2:\n",
    "        for aspect in aspects:\n",
    "            cons[aspect] = cons.get(aspect, 0) + 1\n",
    "    \n",
    "    return\n",
    "\n",
    "def predict_gender(name):\n",
    "    predicted_gender = loaded_model.predict([name.lower()])\n",
    "    if predicted_gender[0] == 0:\n",
    "        return('Male')\n",
    "    else:\n",
    "        return('Female')\n",
    "\n",
    "# Extract Pros/Cons and Gender from each matching productId\n",
    "df.loc[df['ProductId'] == productId, 'Extracted Aspects'] = df[df['ProductId'] == productId].apply(lambda row: analyze_review(row['Summary'], row['Score']), axis=1)\n",
    "df.loc[df['ProductId'] == productId, 'Gender'] = df[df['ProductId'] == productId].apply(lambda row: predict_gender(row['ProfileName']), axis=1)\n",
    "\n",
    "# Calculate gender proportion\n",
    "num_reviews = len(df[(df['ProductId'] == productId)])\n",
    "num_males = len(df[(df['ProductId'] == productId) & (df['Gender'] == 'Male')])\n",
    "male_proportion = num_males / num_reviews\n",
    "\n",
    "# Create DataFrames for Pros and Cons for visualization\n",
    "top_pros = dict(sorted(pros.items(), key=lambda item: item[1], reverse=True)[:5])  # Top 5 Pros\n",
    "top_cons = dict(sorted(cons.items(), key=lambda item: item[1], reverse=True)[:5])  # Top 5 Cons\n",
    "pros_df = pd.DataFrame(list(top_pros.items()), columns=['Aspect', 'Frequency'])\n",
    "cons_df = pd.DataFrame(list(top_cons.items()), columns=['Aspect', 'Frequency'])\n",
    "\n",
    "# Output results\n",
    "if male_proportion < 0.4:\n",
    "    print('This product is most popular among females.')\n",
    "elif male_proportion < 0.6:\n",
    "    print('This product is popular among both males and females.')\n",
    "else:\n",
    "    print('This product is most popular among males')\n",
    "\n",
    "print('\\nTop Pros:')\n",
    "print(pros_df)\n",
    "\n",
    "print('\\nTop Cons:')\n",
    "print(cons_df)"
   ]
  }
 ],
 "metadata": {
  "kernelspec": {
   "display_name": "Python 3",
   "language": "python",
   "name": "python3"
  },
  "language_info": {
   "codemirror_mode": {
    "name": "ipython",
    "version": 3
   },
   "file_extension": ".py",
   "mimetype": "text/x-python",
   "name": "python",
   "nbconvert_exporter": "python",
   "pygments_lexer": "ipython3",
   "version": "3.11.9"
  }
 },
 "nbformat": 4,
 "nbformat_minor": 5
}
