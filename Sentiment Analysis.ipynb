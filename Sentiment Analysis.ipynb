{
 "cells": [
  {
   "cell_type": "code",
   "execution_count": 91,
   "id": "d8af5c52",
   "metadata": {},
   "outputs": [
    {
     "name": "stderr",
     "output_type": "stream",
     "text": [
      "No model was supplied, defaulted to distilbert/distilbert-base-uncased-finetuned-sst-2-english and revision 714eb0f (https://huggingface.co/distilbert/distilbert-base-uncased-finetuned-sst-2-english).\n",
      "Using a pipeline without specifying a model name and revision in production is not recommended.\n",
      "Device set to use cpu\n"
     ]
    }
   ],
   "source": [
    "import pandas as pd\n",
    "import numpy as np\n",
    "import spacy\n",
    "from transformers import pipeline, BertTokenizer\n",
    "import torch\n",
    "\n",
    "df = pd.read_csv(\"Filtered Reviews2.csv\")\n",
    "nlp = spacy.load(\"en_core_web_sm\")\n",
    "tokenizer = BertTokenizer.from_pretrained('bert-base-uncased')\n",
    "sentiment_pipeline = pipeline(\"sentiment-analysis\")"
   ]
  },
  {
   "cell_type": "code",
   "execution_count": 92,
   "id": "44eda791",
   "metadata": {},
   "outputs": [
    {
     "name": "stdout",
     "output_type": "stream",
     "text": [
      "{'low confidence count': 31}\n",
      "81\n",
      "623\n"
     ]
    }
   ],
   "source": [
    "low_conf = {}\n",
    "\n",
    "# Function to analyze sentiment and compare with rating\n",
    "def compare_rating_and_sentiment(review, rating):\n",
    "    # Analyze review sentiment\n",
    "    sentiment_result = sentiment_pipeline(review[:512])  # Truncate long reviews\n",
    "    sentiment = sentiment_result[0]['label']  # POSITIVE or NEGATIVE\n",
    "    if sentiment_result[0]['score'] < 0.8: \n",
    "        low_conf[\"low confidence count\"] = low_conf.get(\"low confidence count\", 0) + 1\n",
    "        \n",
    "    # Compare with rating (4*/5* are positive, 1*/2* are negative) and return if inconsistent\n",
    "    if sentiment == \"POSITIVE\" and rating < 3:\n",
    "        return sentiment\n",
    "    elif sentiment == \"NEGATIVE\" and rating > 3:\n",
    "        return sentiment\n",
    "    return None  # Return None if there's no inconsistency\n",
    "\n",
    "# Apply the function to each review in the DataFrame\n",
    "df['Inconsistent Review'] = df.apply(lambda row: compare_rating_and_sentiment(row['Review'], row['Rating']), axis=1)\n",
    "\n",
    "# Filter out rows where the result is None (i.e., no inconsistency)\n",
    "inconsistent_reviews = df[df['Inconsistent Review'].notna()]\n",
    "\n",
    "print(low_conf)\n",
    "\n",
    "print(len(inconsistent_reviews))\n",
    "print(len(df))"
   ]
  },
  {
   "cell_type": "code",
   "execution_count": 93,
   "id": "93c03141",
   "metadata": {},
   "outputs": [],
   "source": [
    "pros_dict = {}\n",
    "cons_dict = {}\n",
    "\n",
    "def analyze_review(review):    \n",
    "    # Analyze review sentiment\n",
    "    sentiment_result = sentiment_pipeline(review[:512])\n",
    "    sentiment = sentiment_result[0]['label']\n",
    "    confidence = sentiment_result[0]['score']\n",
    "    \n",
    "    # Extract noun chunks (possible pros/cons)\n",
    "    doc = nlp(review)\n",
    "    excluded_words = ['i', 'my', 'you', 'they', 'it', 'these', 'them', 'we', 'me', 'that', \n",
    "                      'this', 'she', 'he', 'him', 'his', 'her', 'amazon','what', 'who', 'which', \n",
    "                      'us', 'all', 'something']\n",
    "    aspects = [chunk.text.lower() for chunk in doc.noun_chunks if not any(token.pos_ == \"PRP\" for token in chunk) and\n",
    "                                                                  not any(token.text.lower() in excluded_words for token in chunk)]\n",
    "    if sentiment == \"POSITIVE\":\n",
    "        for aspect in aspects:\n",
    "            pros_dict[aspect] = pros_dict.get(aspect, 0) + 1\n",
    "    elif sentiment == \"NEGATIVE\":\n",
    "        for aspect in aspects:\n",
    "            cons_dict[aspect] = cons_dict.get(aspect, 0) + 1\n",
    "    \n",
    "    return sentiment, confidence, aspects\n",
    "\n",
    "# Apply the function to each review\n",
    "df[['Sentiment', 'Confidence', 'Extracted Aspects']] = df['Review'].apply(lambda review: pd.Series(analyze_review(review)))"
   ]
  },
  {
   "cell_type": "code",
   "execution_count": 94,
   "id": "c3c75794",
   "metadata": {},
   "outputs": [
    {
     "name": "stdout",
     "output_type": "stream",
     "text": [
      "Top 5 Pros: {'coconut oil': 196, 'cooking': 50, 'skin': 45, 'the product': 42, 'the coconut oil': 42, 'the smell': 41, 'coconut': 40, 'hair': 38, 'the oil': 37, 'the jar': 35}\n",
      "Top 5 Cons: {'coconut oil': 54, 'the coconut oil': 27, 'the oil': 22, 'hair': 16, 'your hair': 13, 'the product': 11, 'cooking': 11, 'the jar': 10, 'skin': 10, 'some': 10}\n",
      "Top 5 Pros: {'cooking': 50, 'skin': 45, 'the product': 42, 'the coconut oil': 42, 'the smell': 41, 'coconut': 40, 'hair': 38, 'the oil': 37, 'the jar': 35}\n",
      "Top 5 Cons: {'the coconut oil': 27, 'the oil': 22, 'hair': 16, 'your hair': 13, 'the product': 11, 'cooking': 11, 'the jar': 10, 'skin': 10, 'some': 10}\n"
     ]
    }
   ],
   "source": [
    "print(\"Top 5 Pros:\", dict(sorted(pros_dict.items(), key=lambda item: item[1], reverse=True)[:10]))\n",
    "print(\"Top 5 Cons:\", dict(sorted(cons_dict.items(), key=lambda item: item[1], reverse=True)[:10]))\n",
    "print(\"Top 5 Pros:\", dict(sorted(pros_dict.items(), key=lambda item: item[1], reverse=True)[1:10]))\n",
    "print(\"Top 5 Cons:\", dict(sorted(cons_dict.items(), key=lambda item: item[1], reverse=True)[1:10]))"
   ]
  },
  {
   "cell_type": "code",
   "execution_count": null,
   "id": "4eebd77b",
   "metadata": {},
   "outputs": [
    {
     "name": "stdout",
     "output_type": "stream",
     "text": [
      "Top 5 Pros: {'the battery life': 1, 'this phone': 1, 'it': 1}\n",
      "Top 5 Cons: {'the camera quality': 1, 'i': 1, 'the design': 1, 'the phone': 1, 'it': 1, 'the screen resolution': 1, 'the battery': 1}\n",
      "Top 5 Pros: {'this phone': 1, 'it': 1}\n",
      "Top 5 Cons: {'i': 1, 'the design': 1, 'the phone': 1, 'it': 1, 'the screen resolution': 1, 'the battery': 1}\n"
     ]
    }
   ],
   "source": [
    "# Test\n",
    "\n",
    "def classify_aspect_sentiment(aspect, review):\n",
    "    sentiment_result = sentiment_pipeline(f\"{aspect} {review}\")  # Combine aspect with review context for sentiment analysis\n",
    "    sentiment = sentiment_result[0]['label']\n",
    "    return sentiment\n",
    "\n",
    "def extract_aspects(review):\n",
    "    doc = nlp(review)\n",
    "    return [chunk.text.lower() for chunk in doc.noun_chunks]\n",
    "\n",
    "reviews = [\n",
    "    \"The battery life of this phone is amazing. It lasts all day!\",\n",
    "    \"The camera quality is terrible, I am very disappointed.\",\n",
    "    \"I love the design of the phone, but it’s a bit heavy.\",\n",
    "    \"The screen resolution is beautiful, but the battery drains quickly.\",\n",
    "]\n",
    "\n",
    "p_dict = {}\n",
    "c_dict = {}\n",
    "\n",
    "for review in reviews:\n",
    "    aspects = extract_aspects(review)  # Extract aspects from the review\n",
    "    for aspect in aspects:\n",
    "        sentiment = classify_aspect_sentiment(aspect, review)  # Classify sentiment for each aspect\n",
    "\n",
    "    if sentiment == \"POSITIVE\":\n",
    "        for aspect in aspects:\n",
    "            p_dict[aspect] = pros_dict.get(aspect, 0) + 1\n",
    "    elif sentiment == \"NEGATIVE\":\n",
    "        for aspect in aspects:\n",
    "            c_dict[aspect] = cons_dict.get(aspect, 0) + 1\n",
    "\n",
    "print(\"Top 5 Pros:\", dict(sorted(p_dict.items(), key=lambda item: item[1], reverse=True)[:10]))\n",
    "print(\"Top 5 Cons:\", dict(sorted(c_dict.items(), key=lambda item: item[1], reverse=True)[:10]))\n",
    "print(\"Top 5 Pros:\", dict(sorted(p_dict.items(), key=lambda item: item[1], reverse=True)[1:10]))\n",
    "print(\"Top 5 Cons:\", dict(sorted(c_dict.items(), key=lambda item: item[1], reverse=True)[1:10]))"
   ]
  },
  {
   "cell_type": "code",
   "execution_count": null,
   "id": "44fd946b",
   "metadata": {},
   "outputs": [],
   "source": [
    "print(df[['Sentiment', 'Extracted Aspects']])"
   ]
  }
 ],
 "metadata": {
  "kernelspec": {
   "display_name": "Python 3",
   "language": "python",
   "name": "python3"
  },
  "language_info": {
   "codemirror_mode": {
    "name": "ipython",
    "version": 3
   },
   "file_extension": ".py",
   "mimetype": "text/x-python",
   "name": "python",
   "nbconvert_exporter": "python",
   "pygments_lexer": "ipython3",
   "version": "3.11.9"
  }
 },
 "nbformat": 4,
 "nbformat_minor": 5
}
