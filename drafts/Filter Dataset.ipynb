{
 "cells": [
  {
   "cell_type": "code",
   "execution_count": 6,
   "id": "74dd2671",
   "metadata": {},
   "outputs": [],
   "source": [
    "import pandas as pd\n",
    "\n",
    "df = pd.read_csv(\"Reviews.csv\")"
   ]
  },
  {
   "cell_type": "code",
   "execution_count": 7,
   "id": "663b2641",
   "metadata": {},
   "outputs": [
    {
     "name": "stdout",
     "output_type": "stream",
     "text": [
      "Most common ProductId: B007JFMH8M\n"
     ]
    }
   ],
   "source": [
    "# Find the most common ProductId\n",
    "most_common_productid = df['ProductId'].mode()[0]\n",
    "print(f\"Most common ProductId: {most_common_productid}\")"
   ]
  },
  {
   "cell_type": "code",
   "execution_count": 42,
   "id": "d6ea0498",
   "metadata": {},
   "outputs": [
    {
     "name": "stdout",
     "output_type": "stream",
     "text": [
      "Second most common ProductId: B0026RQTGE\n"
     ]
    }
   ],
   "source": [
    "# Exclude rows with the most common ProductId\n",
    "df_excluding_most_common = df[df['ProductId'] != most_common_productid]\n",
    "\n",
    "# Find the second most common ProductId in the remaining data\n",
    "second_most_common_productid = df_excluding_most_common['ProductId'].mode()[0]\n",
    "\n",
    "# Print the second most common ProductId\n",
    "print(f\"Second most common ProductId: {second_most_common_productid}\")"
   ]
  },
  {
   "cell_type": "code",
   "execution_count": null,
   "id": "aa5cf992",
   "metadata": {},
   "outputs": [
    {
     "name": "stdout",
     "output_type": "stream",
     "text": [
      "Next most common ProductId: B003B3OOPA\n"
     ]
    }
   ],
   "source": [
    "# Continue filtering out the modes\n",
    "most_common_productid = df_excluding_most_common['ProductId'].mode()[0]\n",
    "\n",
    "# Exclude rows with the most common ProductId\n",
    "df_excluding_most_common = df_excluding_most_common[df_excluding_most_common['ProductId'] != most_common_productid]\n",
    "\n",
    "# Find the next most common ProductId in the remaining data\n",
    "second_most_common_productid = df_excluding_most_common['ProductId'].mode()[0]\n",
    "\n",
    "# Print the next-most\n",
    "print(f\"Next most common ProductId: {second_most_common_productid}\")"
   ]
  },
  {
   "cell_type": "code",
   "execution_count": 53,
   "id": "db75c5cd",
   "metadata": {},
   "outputs": [
    {
     "name": "stdout",
     "output_type": "stream",
     "text": [
      "367524    Coconut Oil is so tasty, it goes great with an...\n",
      "367525    This was my first time to try coconut oil, oth...\n",
      "367526    This product is simply amazing. It is a much b...\n",
      "367527    I am a biracial man.Now,that means i have Indi...\n",
      "367528    I have tried a few different extra virgin coco...\n",
      "                                ...                        \n",
      "368142    Did some research and decided to give this a t...\n",
      "368143    I made a few orders, this one came fast and fu...\n",
      "368144    This coconut oil is an excellent multi-purpose...\n",
      "368145    My hair LOVES coconut oil, apparently.  I have...\n",
      "368146    This coconut oil is fantastic.  I'll leave you...\n",
      "Name: Text, Length: 623, dtype: object\n"
     ]
    }
   ],
   "source": [
    "# Filter the DataFrame by the ProductId mode\n",
    "new_df = df[df['ProductId'] == second_most_common_productid]\n",
    "print(new_df['Text'])"
   ]
  },
  {
   "cell_type": "code",
   "execution_count": 57,
   "id": "583190de",
   "metadata": {},
   "outputs": [],
   "source": [
    "# Drop unnecessary columns\n",
    "new_df = new_df.drop(columns=['Id', 'ProductId', 'UserId', 'ProfileName', 'HelpfulnessNumerator', 'HelpfulnessDenominator', 'Time'])\n",
    "\n",
    "# Rename columns\n",
    "new_df.columns = ['Rating', 'Title', 'Review']"
   ]
  },
  {
   "cell_type": "code",
   "execution_count": 8,
   "id": "cd6d6705",
   "metadata": {},
   "outputs": [],
   "source": [
    "# Filter the DataFrame by the ProductId mode\n",
    "df = df[df['ProductId'] == most_common_productid]\n",
    "\n",
    "# Drop unnecessary columns\n",
    "#df = df.drop(columns=['Id', 'ProductId', 'UserId', 'ProfileName', 'HelpfulnessNumerator', 'HelpfulnessDenominator', 'Time'])\n",
    "\n",
    "# Don't drop Profile Name for gender prediction\n",
    "new_df = df.drop(columns=['Id', 'ProductId', 'UserId', 'HelpfulnessNumerator', 'HelpfulnessDenominator', 'Time'])\n",
    "new_df.columns = ['ProfileName', 'Rating', 'Summary', 'Review']\n",
    "\n",
    "# Rename columns\n",
    "#df.columns = ['Rating', 'Title', 'Review']\n"
   ]
  },
  {
   "cell_type": "code",
   "execution_count": 9,
   "id": "7699319d",
   "metadata": {},
   "outputs": [],
   "source": [
    "# Save as new csv\n",
    "new_df.to_csv('Filtered Reviews.csv', index=False)"
   ]
  }
 ],
 "metadata": {
  "kernelspec": {
   "display_name": "Python 3",
   "language": "python",
   "name": "python3"
  },
  "language_info": {
   "codemirror_mode": {
    "name": "ipython",
    "version": 3
   },
   "file_extension": ".py",
   "mimetype": "text/x-python",
   "name": "python",
   "nbconvert_exporter": "python",
   "pygments_lexer": "ipython3",
   "version": "3.11.9"
  }
 },
 "nbformat": 4,
 "nbformat_minor": 5
}
